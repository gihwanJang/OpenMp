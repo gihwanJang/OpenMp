{
 "cells": [
  {
   "cell_type": "code",
   "execution_count": 1,
   "id": "2300a84c",
   "metadata": {},
   "outputs": [],
   "source": [
    "import matplotlib.pyplot as plt\n",
    "import matplotlib.animation as animation\n",
    "import mpl_toolkits.mplot3d.axes3d as p3\n",
    "import pandas as pd\n",
    "import numpy as np\n",
    "from sklearn.cluster import KMeans\n",
    "from sklearn import preprocessing"
   ]
  },
  {
   "cell_type": "code",
   "execution_count": 2,
   "id": "afd81447",
   "metadata": {},
   "outputs": [
    {
     "name": "stdout",
     "output_type": "stream",
     "text": [
      "Jupyter environment detected. Enabling Open3D WebVisualizer.\n",
      "[Open3D INFO] WebRTC GUI backend enabled.\n",
      "[Open3D INFO] WebRTCWindowSystem: HTTP handshake server disabled.\n"
     ]
    }
   ],
   "source": [
    "import laspy\n",
    "import open3d as o3d\n",
    "import pptk"
   ]
  },
  {
   "cell_type": "markdown",
   "id": "49da2649",
   "metadata": {},
   "source": [
    "# K-means"
   ]
  },
  {
   "cell_type": "code",
   "execution_count": 2,
   "id": "1753ac61",
   "metadata": {},
   "outputs": [
    {
     "data": {
      "text/html": [
       "<div>\n",
       "<style scoped>\n",
       "    .dataframe tbody tr th:only-of-type {\n",
       "        vertical-align: middle;\n",
       "    }\n",
       "\n",
       "    .dataframe tbody tr th {\n",
       "        vertical-align: top;\n",
       "    }\n",
       "\n",
       "    .dataframe thead th {\n",
       "        text-align: right;\n",
       "    }\n",
       "</style>\n",
       "<table border=\"1\" class=\"dataframe\">\n",
       "  <thead>\n",
       "    <tr style=\"text-align: right;\">\n",
       "      <th></th>\n",
       "      <th>x</th>\n",
       "      <th>y</th>\n",
       "      <th>c</th>\n",
       "    </tr>\n",
       "  </thead>\n",
       "  <tbody>\n",
       "    <tr>\n",
       "      <th>0</th>\n",
       "      <td>4792</td>\n",
       "      <td>57708</td>\n",
       "      <td>2</td>\n",
       "    </tr>\n",
       "    <tr>\n",
       "      <th>1</th>\n",
       "      <td>6747</td>\n",
       "      <td>57579</td>\n",
       "      <td>2</td>\n",
       "    </tr>\n",
       "    <tr>\n",
       "      <th>2</th>\n",
       "      <td>6490</td>\n",
       "      <td>58493</td>\n",
       "      <td>2</td>\n",
       "    </tr>\n",
       "    <tr>\n",
       "      <th>3</th>\n",
       "      <td>8068</td>\n",
       "      <td>56261</td>\n",
       "      <td>2</td>\n",
       "    </tr>\n",
       "    <tr>\n",
       "      <th>4</th>\n",
       "      <td>6125</td>\n",
       "      <td>61756</td>\n",
       "      <td>2</td>\n",
       "    </tr>\n",
       "    <tr>\n",
       "      <th>...</th>\n",
       "      <td>...</td>\n",
       "      <td>...</td>\n",
       "      <td>...</td>\n",
       "    </tr>\n",
       "    <tr>\n",
       "      <th>195</th>\n",
       "      <td>9715</td>\n",
       "      <td>3573</td>\n",
       "      <td>0</td>\n",
       "    </tr>\n",
       "    <tr>\n",
       "      <th>196</th>\n",
       "      <td>15083</td>\n",
       "      <td>2319</td>\n",
       "      <td>0</td>\n",
       "    </tr>\n",
       "    <tr>\n",
       "      <th>197</th>\n",
       "      <td>8513</td>\n",
       "      <td>2412</td>\n",
       "      <td>0</td>\n",
       "    </tr>\n",
       "    <tr>\n",
       "      <th>198</th>\n",
       "      <td>13820</td>\n",
       "      <td>1632</td>\n",
       "      <td>0</td>\n",
       "    </tr>\n",
       "    <tr>\n",
       "      <th>199</th>\n",
       "      <td>13211</td>\n",
       "      <td>2648</td>\n",
       "      <td>0</td>\n",
       "    </tr>\n",
       "  </tbody>\n",
       "</table>\n",
       "<p>200 rows × 3 columns</p>\n",
       "</div>"
      ],
      "text/plain": [
       "         x      y  c\n",
       "0     4792  57708  2\n",
       "1     6747  57579  2\n",
       "2     6490  58493  2\n",
       "3     8068  56261  2\n",
       "4     6125  61756  2\n",
       "..     ...    ... ..\n",
       "195   9715   3573  0\n",
       "196  15083   2319  0\n",
       "197   8513   2412  0\n",
       "198  13820   1632  0\n",
       "199  13211   2648  0\n",
       "\n",
       "[200 rows x 3 columns]"
      ]
     },
     "execution_count": 2,
     "metadata": {},
     "output_type": "execute_result"
    }
   ],
   "source": [
    "data = pd.read_csv(\"../k-means_output.csv\")\n",
    "data"
   ]
  },
  {
   "cell_type": "code",
   "execution_count": 3,
   "id": "989c5229",
   "metadata": {},
   "outputs": [
    {
     "data": {
      "image/png": "[encoded data removed]",
      "text/plain": [
       "<Figure size 432x288 with 1 Axes>"
      ]
     },
     "metadata": {
      "needs_background": "light"
     },
     "output_type": "display_data"
    }
   ],
   "source": [
    "data['color'] = np.where(data.c == 0, 'red', \n",
    "                     np.where(data.c ==1, 'blue',\n",
    "                             np.where(data.c == 2, 'green',\n",
    "                                     np.where(data.c == 3, 'yellow', 'black'))))\n",
    "\n",
    "data.plot(kind='scatter', x='x',y='y', s=1, c=data['color'])\n",
    "plt.show()"
   ]
  },
  {
   "cell_type": "markdown",
   "id": "c51041ac",
   "metadata": {},
   "source": [
    "## k-means with python lib"
   ]
  },
  {
   "cell_type": "code",
   "execution_count": 4,
   "id": "52587a0f",
   "metadata": {},
   "outputs": [
    {
     "data": {
      "image/png": "[encoded data removed]",
      "text/plain": [
       "<Figure size 432x288 with 1 Axes>"
      ]
     },
     "metadata": {
      "needs_background": "light"
     },
     "output_type": "display_data"
    }
   ],
   "source": [
    "estimator = KMeans(n_clusters = 3)\n",
    "ids = estimator.fit_predict(data[['x', 'y']])\n",
    "\n",
    "plt.scatter(data['x'], data['y'], c=ids)  \n",
    "plt.show()"
   ]
  },
  {
   "cell_type": "markdown",
   "id": "d9fe2993",
   "metadata": {},
   "source": [
    "# K-medoid"
   ]
  },
  {
   "cell_type": "code",
   "execution_count": 18,
   "id": "915c5408",
   "metadata": {},
   "outputs": [
    {
     "data": {
      "text/html": [
       "<div>\n",
       "<style scoped>\n",
       "    .dataframe tbody tr th:only-of-type {\n",
       "        vertical-align: middle;\n",
       "    }\n",
       "\n",
       "    .dataframe tbody tr th {\n",
       "        vertical-align: top;\n",
       "    }\n",
       "\n",
       "    .dataframe thead th {\n",
       "        text-align: right;\n",
       "    }\n",
       "</style>\n",
       "<table border=\"1\" class=\"dataframe\">\n",
       "  <thead>\n",
       "    <tr style=\"text-align: right;\">\n",
       "      <th></th>\n",
       "      <th>x</th>\n",
       "      <th>y</th>\n",
       "      <th>c</th>\n",
       "    </tr>\n",
       "  </thead>\n",
       "  <tbody>\n",
       "    <tr>\n",
       "      <th>0</th>\n",
       "      <td>2149</td>\n",
       "      <td>73561</td>\n",
       "      <td>2</td>\n",
       "    </tr>\n",
       "    <tr>\n",
       "      <th>1</th>\n",
       "      <td>2160</td>\n",
       "      <td>71698</td>\n",
       "      <td>2</td>\n",
       "    </tr>\n",
       "    <tr>\n",
       "      <th>2</th>\n",
       "      <td>39670</td>\n",
       "      <td>54952</td>\n",
       "      <td>0</td>\n",
       "    </tr>\n",
       "    <tr>\n",
       "      <th>3</th>\n",
       "      <td>4743</td>\n",
       "      <td>71421</td>\n",
       "      <td>2</td>\n",
       "    </tr>\n",
       "    <tr>\n",
       "      <th>4</th>\n",
       "      <td>43429</td>\n",
       "      <td>56525</td>\n",
       "      <td>0</td>\n",
       "    </tr>\n",
       "    <tr>\n",
       "      <th>...</th>\n",
       "      <td>...</td>\n",
       "      <td>...</td>\n",
       "      <td>...</td>\n",
       "    </tr>\n",
       "    <tr>\n",
       "      <th>195</th>\n",
       "      <td>1229</td>\n",
       "      <td>73007</td>\n",
       "      <td>2</td>\n",
       "    </tr>\n",
       "    <tr>\n",
       "      <th>196</th>\n",
       "      <td>91291</td>\n",
       "      <td>33086</td>\n",
       "      <td>2</td>\n",
       "    </tr>\n",
       "    <tr>\n",
       "      <th>197</th>\n",
       "      <td>90615</td>\n",
       "      <td>31330</td>\n",
       "      <td>2</td>\n",
       "    </tr>\n",
       "    <tr>\n",
       "      <th>198</th>\n",
       "      <td>607</td>\n",
       "      <td>71368</td>\n",
       "      <td>2</td>\n",
       "    </tr>\n",
       "    <tr>\n",
       "      <th>199</th>\n",
       "      <td>3806</td>\n",
       "      <td>72557</td>\n",
       "      <td>2</td>\n",
       "    </tr>\n",
       "  </tbody>\n",
       "</table>\n",
       "<p>200 rows × 3 columns</p>\n",
       "</div>"
      ],
      "text/plain": [
       "         x      y  c\n",
       "0     2149  73561  2\n",
       "1     2160  71698  2\n",
       "2    39670  54952  0\n",
       "3     4743  71421  2\n",
       "4    43429  56525  0\n",
       "..     ...    ... ..\n",
       "195   1229  73007  2\n",
       "196  91291  33086  2\n",
       "197  90615  31330  2\n",
       "198    607  71368  2\n",
       "199   3806  72557  2\n",
       "\n",
       "[200 rows x 3 columns]"
      ]
     },
     "execution_count": 18,
     "metadata": {},
     "output_type": "execute_result"
    }
   ],
   "source": [
    "data2 = pd.read_csv(\"../clara_output.csv\")\n",
    "data2"
   ]
  },
  {
   "cell_type": "code",
   "execution_count": 19,
   "id": "cb517748",
   "metadata": {},
   "outputs": [
    {
     "data": {
      "image/png": "[encoded data removed]",
      "text/plain": [
       "<Figure size 432x288 with 1 Axes>"
      ]
     },
     "metadata": {
      "needs_background": "light"
     },
     "output_type": "display_data"
    }
   ],
   "source": [
    "data2['color'] = np.where(data2.c == 0, 'red', \n",
    "                     np.where(data2.c ==1, 'blue',\n",
    "                             np.where(data2.c == 2, 'green',\n",
    "                                     np.where(data2.c == 3, 'yellow', 'black'))))\n",
    "\n",
    "data2.plot(kind='scatter', x='x',y='y', s=1, c=data2['color'])\n",
    "plt.show()"
   ]
  },
  {
   "cell_type": "markdown",
   "id": "099e2230",
   "metadata": {},
   "source": [
    "## K-medoid with python lib"
   ]
  },
  {
   "cell_type": "code",
   "execution_count": 20,
   "id": "601ee7d4",
   "metadata": {},
   "outputs": [
    {
     "data": {
      "image/png": "[encoded data removed]",
      "text/plain": [
       "<Figure size 432x288 with 1 Axes>"
      ]
     },
     "metadata": {
      "needs_background": "light"
     },
     "output_type": "display_data"
    }
   ],
   "source": [
    "estimator_medoid = KMeans(n_clusters = 3)\n",
    "ids_medoid = estimator_medoid.fit_predict(data2[['x', 'y']])\n",
    "\n",
    "plt.scatter(data2['x'], data2['y'], c=ids_medoid)  \n",
    "plt.show()"
   ]
  },
  {
   "cell_type": "code",
   "execution_count": 41,
   "id": "16da9924",
   "metadata": {},
   "outputs": [
    {
     "data": {
      "text/html": [
       "<div>\n",
       "<style scoped>\n",
       "    .dataframe tbody tr th:only-of-type {\n",
       "        vertical-align: middle;\n",
       "    }\n",
       "\n",
       "    .dataframe tbody tr th {\n",
       "        vertical-align: top;\n",
       "    }\n",
       "\n",
       "    .dataframe thead th {\n",
       "        text-align: right;\n",
       "    }\n",
       "</style>\n",
       "<table border=\"1\" class=\"dataframe\">\n",
       "  <thead>\n",
       "    <tr style=\"text-align: right;\">\n",
       "      <th></th>\n",
       "      <th>x</th>\n",
       "      <th>y</th>\n",
       "      <th>z</th>\n",
       "      <th>c</th>\n",
       "    </tr>\n",
       "  </thead>\n",
       "  <tbody>\n",
       "    <tr>\n",
       "      <th>0</th>\n",
       "      <td>11.24900</td>\n",
       "      <td>7.260000</td>\n",
       "      <td>0.179</td>\n",
       "      <td>1</td>\n",
       "    </tr>\n",
       "    <tr>\n",
       "      <th>1</th>\n",
       "      <td>11.36200</td>\n",
       "      <td>7.277000</td>\n",
       "      <td>0.175</td>\n",
       "      <td>1</td>\n",
       "    </tr>\n",
       "    <tr>\n",
       "      <th>2</th>\n",
       "      <td>11.44000</td>\n",
       "      <td>7.268000</td>\n",
       "      <td>0.176</td>\n",
       "      <td>2</td>\n",
       "    </tr>\n",
       "    <tr>\n",
       "      <th>3</th>\n",
       "      <td>10.78200</td>\n",
       "      <td>-5.686000</td>\n",
       "      <td>0.420</td>\n",
       "      <td>2</td>\n",
       "    </tr>\n",
       "    <tr>\n",
       "      <th>4</th>\n",
       "      <td>10.67700</td>\n",
       "      <td>-6.415000</td>\n",
       "      <td>0.349</td>\n",
       "      <td>0</td>\n",
       "    </tr>\n",
       "    <tr>\n",
       "      <th>...</th>\n",
       "      <td>...</td>\n",
       "      <td>...</td>\n",
       "      <td>...</td>\n",
       "      <td>...</td>\n",
       "    </tr>\n",
       "    <tr>\n",
       "      <th>11614</th>\n",
       "      <td>270.86700</td>\n",
       "      <td>-1.639000</td>\n",
       "      <td>4.948</td>\n",
       "      <td>255</td>\n",
       "    </tr>\n",
       "    <tr>\n",
       "      <th>11615</th>\n",
       "      <td>264.22601</td>\n",
       "      <td>4.254000</td>\n",
       "      <td>4.770</td>\n",
       "      <td>150</td>\n",
       "    </tr>\n",
       "    <tr>\n",
       "      <th>11616</th>\n",
       "      <td>270.82800</td>\n",
       "      <td>-5.100000</td>\n",
       "      <td>4.983</td>\n",
       "      <td>151</td>\n",
       "    </tr>\n",
       "    <tr>\n",
       "      <th>11617</th>\n",
       "      <td>270.77600</td>\n",
       "      <td>-7.130000</td>\n",
       "      <td>4.918</td>\n",
       "      <td>255</td>\n",
       "    </tr>\n",
       "    <tr>\n",
       "      <th>11618</th>\n",
       "      <td>270.73300</td>\n",
       "      <td>-9.196999</td>\n",
       "      <td>4.867</td>\n",
       "      <td>255</td>\n",
       "    </tr>\n",
       "  </tbody>\n",
       "</table>\n",
       "<p>11619 rows × 4 columns</p>\n",
       "</div>"
      ],
      "text/plain": [
       "               x         y      z    c\n",
       "0       11.24900  7.260000  0.179    1\n",
       "1       11.36200  7.277000  0.175    1\n",
       "2       11.44000  7.268000  0.176    2\n",
       "3       10.78200 -5.686000  0.420    2\n",
       "4       10.67700 -6.415000  0.349    0\n",
       "...          ...       ...    ...  ...\n",
       "11614  270.86700 -1.639000  4.948  255\n",
       "11615  264.22601  4.254000  4.770  150\n",
       "11616  270.82800 -5.100000  4.983  151\n",
       "11617  270.77600 -7.130000  4.918  255\n",
       "11618  270.73300 -9.196999  4.867  255\n",
       "\n",
       "[11619 rows x 4 columns]"
      ]
     },
     "execution_count": 41,
     "metadata": {},
     "output_type": "execute_result"
    }
   ],
   "source": [
    "data3 = pd.read_csv(\"../data/street.csv\")\n",
    "data3"
   ]
  },
  {
   "cell_type": "code",
   "execution_count": 10,
   "id": "ea895083",
   "metadata": {},
   "outputs": [
    {
     "name": "stdout",
     "output_type": "stream",
     "text": [
      "PointCloud with 11619 points.\n",
      "Shape of points (11619, 3)\n",
      "Shape of colors (0, 3)\n"
     ]
    }
   ],
   "source": [
    "pc_pcd = o3d.io.read_point_cloud(\"../data/street.pcd\")\n",
    "\n",
    "print(pc_pcd)\n",
    "print('Shape of points', np.asarray(pc_pcd.points).shape)\n",
    "print('Shape of colors', np.asarray(pc_pcd.colors).shape)"
   ]
  },
  {
   "cell_type": "code",
   "execution_count": 11,
   "id": "f02ba3a3",
   "metadata": {},
   "outputs": [],
   "source": [
    "o3d.visualization.draw_geometries([pc_pcd])"
   ]
  },
  {
   "cell_type": "code",
   "execution_count": 4,
   "id": "77cfab0e",
   "metadata": {},
   "outputs": [
    {
     "name": "stdout",
     "output_type": "stream",
     "text": [
      "Defaulting to user installation because normal site-packages is not writeable\n",
      "Requirement already satisfied: open3d in /home/gihwan/.local/lib/python3.6/site-packages (0.15.2)\n",
      "Requirement already satisfied: pandas>=1.0 in /home/gihwan/.local/lib/python3.6/site-packages (from open3d) (1.1.5)\n",
      "Requirement already satisfied: wheel>=0.36.0 in /home/gihwan/.local/lib/python3.6/site-packages (from open3d) (0.37.1)\n",
      "Requirement already satisfied: jupyterlab==3.*,>=3.0.0 in /home/gihwan/.local/lib/python3.6/site-packages (from open3d) (3.2.9)\n",
      "Requirement already satisfied: matplotlib>=3 in /home/gihwan/.local/lib/python3.6/site-packages (from open3d) (3.3.4)\n",
      "Requirement already satisfied: numpy>1.15 in /home/gihwan/.local/lib/python3.6/site-packages (from open3d) (1.18.5)\n",
      "Requirement already satisfied: addict in /home/gihwan/.local/lib/python3.6/site-packages (from open3d) (2.4.0)\n",
      "Requirement already satisfied: pygments>=2.7.4 in /home/gihwan/.local/lib/python3.6/site-packages (from open3d) (2.14.0)\n",
      "Requirement already satisfied: pillow>=8.2.0 in /home/gihwan/.local/lib/python3.6/site-packages (from open3d) (8.4.0)\n",
      "Requirement already satisfied: tqdm in /home/gihwan/.local/lib/python3.6/site-packages (from open3d) (4.64.1)\n",
      "Requirement already satisfied: jupyter-packaging~=0.10 in /home/gihwan/.local/lib/python3.6/site-packages (from open3d) (0.10.6)\n",
      "Requirement already satisfied: ipywidgets>=7.6.0 in /home/gihwan/.local/lib/python3.6/site-packages (from open3d) (7.7.5)\n",
      "Requirement already satisfied: pyquaternion in /home/gihwan/.local/lib/python3.6/site-packages (from open3d) (0.9.9)\n",
      "Requirement already satisfied: pyyaml>=5.4.1 in /home/gihwan/.local/lib/python3.6/site-packages (from open3d) (6.0)\n",
      "Requirement already satisfied: scikit-learn>=0.21 in /home/gihwan/.local/lib/python3.6/site-packages (from open3d) (0.24.2)\n",
      "Requirement already satisfied: setuptools>=40.8.0 in /home/gihwan/.local/lib/python3.6/site-packages (from open3d) (59.6.0)\n",
      "Requirement already satisfied: jupyter-core in /home/gihwan/.local/lib/python3.6/site-packages (from jupyterlab==3.*,>=3.0.0->open3d) (4.9.2)\n",
      "Requirement already satisfied: jupyterlab-server~=2.3 in /home/gihwan/.local/lib/python3.6/site-packages (from jupyterlab==3.*,>=3.0.0->open3d) (2.10.3)\n",
      "Requirement already satisfied: tornado>=6.1.0 in /home/gihwan/.local/lib/python3.6/site-packages (from jupyterlab==3.*,>=3.0.0->open3d) (6.1)\n",
      "Requirement already satisfied: jupyter-server~=1.4 in /home/gihwan/.local/lib/python3.6/site-packages (from jupyterlab==3.*,>=3.0.0->open3d) (1.13.1)\n",
      "Requirement already satisfied: jinja2>=2.1 in /home/gihwan/.local/lib/python3.6/site-packages (from jupyterlab==3.*,>=3.0.0->open3d) (3.0.3)\n",
      "Requirement already satisfied: ipython in /home/gihwan/.local/lib/python3.6/site-packages (from jupyterlab==3.*,>=3.0.0->open3d) (7.16.3)\n",
      "Requirement already satisfied: packaging in /home/gihwan/.local/lib/python3.6/site-packages (from jupyterlab==3.*,>=3.0.0->open3d) (21.3)\n",
      "Requirement already satisfied: nbclassic~=0.2 in /home/gihwan/.local/lib/python3.6/site-packages (from jupyterlab==3.*,>=3.0.0->open3d) (0.3.5)\n",
      "Requirement already satisfied: jupyterlab-widgets<3,>=1.0.0 in /home/gihwan/.local/lib/python3.6/site-packages (from ipywidgets>=7.6.0->open3d) (1.1.4)\n",
      "Requirement already satisfied: widgetsnbextension~=3.6.4 in /home/gihwan/.local/lib/python3.6/site-packages (from ipywidgets>=7.6.0->open3d) (3.6.4)\n",
      "Requirement already satisfied: ipython-genutils~=0.2.0 in /home/gihwan/.local/lib/python3.6/site-packages (from ipywidgets>=7.6.0->open3d) (0.2.0)\n",
      "Requirement already satisfied: traitlets>=4.3.1 in /home/gihwan/.local/lib/python3.6/site-packages (from ipywidgets>=7.6.0->open3d) (4.3.3)\n",
      "Requirement already satisfied: ipykernel>=4.5.1 in /home/gihwan/.local/lib/python3.6/site-packages (from ipywidgets>=7.6.0->open3d) (5.5.6)\n",
      "Requirement already satisfied: deprecation in /home/gihwan/.local/lib/python3.6/site-packages (from jupyter-packaging~=0.10->open3d) (2.1.0)\n",
      "Requirement already satisfied: tomlkit in /home/gihwan/.local/lib/python3.6/site-packages (from jupyter-packaging~=0.10->open3d) (0.11.6)\n",
      "Requirement already satisfied: python-dateutil>=2.1 in /home/gihwan/.local/lib/python3.6/site-packages (from matplotlib>=3->open3d) (2.8.2)\n",
      "Requirement already satisfied: kiwisolver>=1.0.1 in /home/gihwan/.local/lib/python3.6/site-packages (from matplotlib>=3->open3d) (1.3.1)\n",
      "Requirement already satisfied: cycler>=0.10 in /home/gihwan/.local/lib/python3.6/site-packages (from matplotlib>=3->open3d) (0.11.0)\n",
      "Requirement already satisfied: pyparsing!=2.0.4,!=2.1.2,!=2.1.6,>=2.0.3 in /home/gihwan/.local/lib/python3.6/site-packages (from matplotlib>=3->open3d) (3.0.9)\n",
      "Requirement already satisfied: pytz>=2017.2 in /usr/lib/python3/dist-packages (from pandas>=1.0->open3d) (2018.3)\n",
      "Requirement already satisfied: threadpoolctl>=2.0.0 in /home/gihwan/.local/lib/python3.6/site-packages (from scikit-learn>=0.21->open3d) (3.1.0)\n",
      "Requirement already satisfied: joblib>=0.11 in /home/gihwan/.local/lib/python3.6/site-packages (from scikit-learn>=0.21->open3d) (1.1.1)\n",
      "Requirement already satisfied: scipy>=0.19.1 in /home/gihwan/.local/lib/python3.6/site-packages (from scikit-learn>=0.21->open3d) (1.5.4)\n",
      "Requirement already satisfied: importlib-resources in /home/gihwan/.local/lib/python3.6/site-packages (from tqdm->open3d) (5.4.0)\n",
      "Requirement already satisfied: jupyter-client in /home/gihwan/.local/lib/python3.6/site-packages (from ipykernel>=4.5.1->ipywidgets>=7.6.0->open3d) (7.1.2)\n",
      "Requirement already satisfied: pexpect in /usr/lib/python3/dist-packages (from ipython->jupyterlab==3.*,>=3.0.0->open3d) (4.2.1)\n",
      "Requirement already satisfied: backcall in /home/gihwan/.local/lib/python3.6/site-packages (from ipython->jupyterlab==3.*,>=3.0.0->open3d) (0.2.0)\n",
      "Requirement already satisfied: pickleshare in /home/gihwan/.local/lib/python3.6/site-packages (from ipython->jupyterlab==3.*,>=3.0.0->open3d) (0.7.5)\n",
      "Requirement already satisfied: decorator in /home/gihwan/.local/lib/python3.6/site-packages (from ipython->jupyterlab==3.*,>=3.0.0->open3d) (5.1.1)\n",
      "Requirement already satisfied: jedi<=0.17.2,>=0.10 in /home/gihwan/.local/lib/python3.6/site-packages (from ipython->jupyterlab==3.*,>=3.0.0->open3d) (0.17.2)\n",
      "Requirement already satisfied: prompt-toolkit!=3.0.0,!=3.0.1,<3.1.0,>=2.0.0 in /home/gihwan/.local/lib/python3.6/site-packages (from ipython->jupyterlab==3.*,>=3.0.0->open3d) (3.0.36)\n",
      "Requirement already satisfied: MarkupSafe>=2.0 in /home/gihwan/.local/lib/python3.6/site-packages (from jinja2>=2.1->jupyterlab==3.*,>=3.0.0->open3d) (2.0.1)\n",
      "Requirement already satisfied: terminado>=0.8.3 in /home/gihwan/.local/lib/python3.6/site-packages (from jupyter-server~=1.4->jupyterlab==3.*,>=3.0.0->open3d) (0.12.1)\n",
      "Requirement already satisfied: argon2-cffi in /home/gihwan/.local/lib/python3.6/site-packages (from jupyter-server~=1.4->jupyterlab==3.*,>=3.0.0->open3d) (21.3.0)\n",
      "Requirement already satisfied: pyzmq>=17 in /home/gihwan/.local/lib/python3.6/site-packages (from jupyter-server~=1.4->jupyterlab==3.*,>=3.0.0->open3d) (25.0.2)\n",
      "Requirement already satisfied: prometheus-client in /home/gihwan/.local/lib/python3.6/site-packages (from jupyter-server~=1.4->jupyterlab==3.*,>=3.0.0->open3d) (0.16.0)\n",
      "Requirement already satisfied: anyio<4,>=3.1.0 in /home/gihwan/.local/lib/python3.6/site-packages (from jupyter-server~=1.4->jupyterlab==3.*,>=3.0.0->open3d) (3.6.2)\n",
      "Requirement already satisfied: websocket-client in /home/gihwan/.local/lib/python3.6/site-packages (from jupyter-server~=1.4->jupyterlab==3.*,>=3.0.0->open3d) (1.3.1)\n",
      "Requirement already satisfied: nbconvert in /home/gihwan/.local/lib/python3.6/site-packages (from jupyter-server~=1.4->jupyterlab==3.*,>=3.0.0->open3d) (6.0.7)\n",
      "Requirement already satisfied: nbformat in /home/gihwan/.local/lib/python3.6/site-packages (from jupyter-server~=1.4->jupyterlab==3.*,>=3.0.0->open3d) (5.1.3)\n",
      "Requirement already satisfied: Send2Trash in /home/gihwan/.local/lib/python3.6/site-packages (from jupyter-server~=1.4->jupyterlab==3.*,>=3.0.0->open3d) (1.8.0)\n",
      "Requirement already satisfied: requests in /home/gihwan/.local/lib/python3.6/site-packages (from jupyterlab-server~=2.3->jupyterlab==3.*,>=3.0.0->open3d) (2.27.1)\n",
      "Requirement already satisfied: entrypoints>=0.2.2 in /home/gihwan/.local/lib/python3.6/site-packages (from jupyterlab-server~=2.3->jupyterlab==3.*,>=3.0.0->open3d) (0.4)\n",
      "Requirement already satisfied: json5 in /home/gihwan/.local/lib/python3.6/site-packages (from jupyterlab-server~=2.3->jupyterlab==3.*,>=3.0.0->open3d) (0.9.11)\n",
      "Requirement already satisfied: jsonschema>=3.0.1 in /home/gihwan/.local/lib/python3.6/site-packages (from jupyterlab-server~=2.3->jupyterlab==3.*,>=3.0.0->open3d) (3.2.0)\n",
      "Requirement already satisfied: babel in /home/gihwan/.local/lib/python3.6/site-packages (from jupyterlab-server~=2.3->jupyterlab==3.*,>=3.0.0->open3d) (2.11.0)\n"
     ]
    },
    {
     "name": "stdout",
     "output_type": "stream",
     "text": [
      "Requirement already satisfied: notebook<7 in /home/gihwan/.local/lib/python3.6/site-packages (from nbclassic~=0.2->jupyterlab==3.*,>=3.0.0->open3d) (6.4.10)\n",
      "Requirement already satisfied: six>=1.5 in /usr/lib/python3/dist-packages (from python-dateutil>=2.1->matplotlib>=3->open3d) (1.11.0)\n",
      "Requirement already satisfied: zipp>=3.1.0 in /home/gihwan/.local/lib/python3.6/site-packages (from importlib-resources->tqdm->open3d) (3.6.0)\n",
      "Requirement already satisfied: contextvars in /home/gihwan/.local/lib/python3.6/site-packages (from anyio<4,>=3.1.0->jupyter-server~=1.4->jupyterlab==3.*,>=3.0.0->open3d) (2.4)\n",
      "Requirement already satisfied: sniffio>=1.1 in /home/gihwan/.local/lib/python3.6/site-packages (from anyio<4,>=3.1.0->jupyter-server~=1.4->jupyterlab==3.*,>=3.0.0->open3d) (1.2.0)\n",
      "Requirement already satisfied: dataclasses in /home/gihwan/.local/lib/python3.6/site-packages (from anyio<4,>=3.1.0->jupyter-server~=1.4->jupyterlab==3.*,>=3.0.0->open3d) (0.8)\n",
      "Requirement already satisfied: typing-extensions in /home/gihwan/.local/lib/python3.6/site-packages (from anyio<4,>=3.1.0->jupyter-server~=1.4->jupyterlab==3.*,>=3.0.0->open3d) (4.1.1)\n",
      "Requirement already satisfied: idna>=2.8 in /home/gihwan/.local/lib/python3.6/site-packages (from anyio<4,>=3.1.0->jupyter-server~=1.4->jupyterlab==3.*,>=3.0.0->open3d) (3.4)\n",
      "Requirement already satisfied: parso<0.8.0,>=0.7.0 in /home/gihwan/.local/lib/python3.6/site-packages (from jedi<=0.17.2,>=0.10->ipython->jupyterlab==3.*,>=3.0.0->open3d) (0.7.1)\n",
      "Requirement already satisfied: importlib-metadata in /home/gihwan/.local/lib/python3.6/site-packages (from jsonschema>=3.0.1->jupyterlab-server~=2.3->jupyterlab==3.*,>=3.0.0->open3d) (4.8.3)\n",
      "Requirement already satisfied: attrs>=17.4.0 in /home/gihwan/.local/lib/python3.6/site-packages (from jsonschema>=3.0.1->jupyterlab-server~=2.3->jupyterlab==3.*,>=3.0.0->open3d) (22.2.0)\n",
      "Requirement already satisfied: pyrsistent>=0.14.0 in /home/gihwan/.local/lib/python3.6/site-packages (from jsonschema>=3.0.1->jupyterlab-server~=2.3->jupyterlab==3.*,>=3.0.0->open3d) (0.18.0)\n",
      "Requirement already satisfied: nest-asyncio>=1.5 in /home/gihwan/.local/lib/python3.6/site-packages (from jupyter-client->ipykernel>=4.5.1->ipywidgets>=7.6.0->open3d) (1.5.6)\n",
      "Requirement already satisfied: jupyterlab-pygments in /home/gihwan/.local/lib/python3.6/site-packages (from nbconvert->jupyter-server~=1.4->jupyterlab==3.*,>=3.0.0->open3d) (0.1.2)\n",
      "Requirement already satisfied: testpath in /home/gihwan/.local/lib/python3.6/site-packages (from nbconvert->jupyter-server~=1.4->jupyterlab==3.*,>=3.0.0->open3d) (0.6.0)\n",
      "Requirement already satisfied: pandocfilters>=1.4.1 in /home/gihwan/.local/lib/python3.6/site-packages (from nbconvert->jupyter-server~=1.4->jupyterlab==3.*,>=3.0.0->open3d) (1.5.0)\n",
      "Requirement already satisfied: bleach in /home/gihwan/.local/lib/python3.6/site-packages (from nbconvert->jupyter-server~=1.4->jupyterlab==3.*,>=3.0.0->open3d) (4.1.0)\n",
      "Requirement already satisfied: defusedxml in /home/gihwan/.local/lib/python3.6/site-packages (from nbconvert->jupyter-server~=1.4->jupyterlab==3.*,>=3.0.0->open3d) (0.7.1)\n",
      "Requirement already satisfied: mistune<2,>=0.8.1 in /home/gihwan/.local/lib/python3.6/site-packages (from nbconvert->jupyter-server~=1.4->jupyterlab==3.*,>=3.0.0->open3d) (0.8.4)\n",
      "Requirement already satisfied: nbclient<0.6.0,>=0.5.0 in /home/gihwan/.local/lib/python3.6/site-packages (from nbconvert->jupyter-server~=1.4->jupyterlab==3.*,>=3.0.0->open3d) (0.5.9)\n",
      "Requirement already satisfied: wcwidth in /home/gihwan/.local/lib/python3.6/site-packages (from prompt-toolkit!=3.0.0,!=3.0.1,<3.1.0,>=2.0.0->ipython->jupyterlab==3.*,>=3.0.0->open3d) (0.2.6)\n",
      "Requirement already satisfied: ptyprocess in /home/gihwan/.local/lib/python3.6/site-packages (from terminado>=0.8.3->jupyter-server~=1.4->jupyterlab==3.*,>=3.0.0->open3d) (0.7.0)\n",
      "Requirement already satisfied: argon2-cffi-bindings in /home/gihwan/.local/lib/python3.6/site-packages (from argon2-cffi->jupyter-server~=1.4->jupyterlab==3.*,>=3.0.0->open3d) (21.2.0)\n",
      "Requirement already satisfied: urllib3<1.27,>=1.21.1 in /home/gihwan/.local/lib/python3.6/site-packages (from requests->jupyterlab-server~=2.3->jupyterlab==3.*,>=3.0.0->open3d) (1.26.15)\n",
      "Requirement already satisfied: certifi>=2017.4.17 in /usr/lib/python3/dist-packages (from requests->jupyterlab-server~=2.3->jupyterlab==3.*,>=3.0.0->open3d) (2018.1.18)\n",
      "Requirement already satisfied: charset-normalizer~=2.0.0 in /home/gihwan/.local/lib/python3.6/site-packages (from requests->jupyterlab-server~=2.3->jupyterlab==3.*,>=3.0.0->open3d) (2.0.12)\n",
      "Requirement already satisfied: async-generator in /home/gihwan/.local/lib/python3.6/site-packages (from nbclient<0.6.0,>=0.5.0->nbconvert->jupyter-server~=1.4->jupyterlab==3.*,>=3.0.0->open3d) (1.10)\n",
      "Requirement already satisfied: immutables>=0.9 in /home/gihwan/.local/lib/python3.6/site-packages (from contextvars->anyio<4,>=3.1.0->jupyter-server~=1.4->jupyterlab==3.*,>=3.0.0->open3d) (0.19)\n",
      "Requirement already satisfied: cffi>=1.0.1 in /home/gihwan/.local/lib/python3.6/site-packages (from argon2-cffi-bindings->argon2-cffi->jupyter-server~=1.4->jupyterlab==3.*,>=3.0.0->open3d) (1.15.1)\n",
      "Requirement already satisfied: webencodings in /home/gihwan/.local/lib/python3.6/site-packages (from bleach->nbconvert->jupyter-server~=1.4->jupyterlab==3.*,>=3.0.0->open3d) (0.5.1)\n",
      "Requirement already satisfied: pycparser in /home/gihwan/.local/lib/python3.6/site-packages (from cffi>=1.0.1->argon2-cffi-bindings->argon2-cffi->jupyter-server~=1.4->jupyterlab==3.*,>=3.0.0->open3d) (2.21)\n",
      "Note: you may need to restart the kernel to use updated packages.\n"
     ]
    }
   ],
   "source": [
    "pip install open3d"
   ]
  },
  {
   "cell_type": "code",
   "execution_count": null,
   "id": "95a2512c",
   "metadata": {},
   "outputs": [],
   "source": []
  }
 ],
 "metadata": {
  "kernelspec": {
   "display_name": "Python 3",
   "language": "python",
   "name": "python3"
  },
  "language_info": {
   "codemirror_mode": {
    "name": "ipython",
    "version": 3
   },
   "file_extension": ".py",
   "mimetype": "text/x-python",
   "name": "python",
   "nbconvert_exporter": "python",
   "pygments_lexer": "ipython3",
   "version": "3.6.9"
  }
 },
 "nbformat": 4,
 "nbformat_minor": 5
}
